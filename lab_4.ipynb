{
 "cells": [
  {
   "cell_type": "code",
   "outputs": [],
   "source": [
    "from pymongo import MongoClient\n",
    "from bson import ObjectId\n",
    "from datetime import datetime"
   ],
   "metadata": {
    "collapsed": false,
    "ExecuteTime": {
     "end_time": "2024-05-02T08:43:40.230216Z",
     "start_time": "2024-05-02T08:43:40.226820Z"
    }
   },
   "id": "f523c42138e5ae37",
   "execution_count": 29
  },
  {
   "cell_type": "markdown",
   "source": [
    "Підключення до БД"
   ],
   "metadata": {
    "collapsed": false
   },
   "id": "679d011e693e0a5f"
  },
  {
   "cell_type": "code",
   "execution_count": 2,
   "id": "initial_id",
   "metadata": {
    "collapsed": true,
    "ExecuteTime": {
     "end_time": "2024-05-02T08:14:49.976066Z",
     "start_time": "2024-05-02T08:14:49.957841Z"
    }
   },
   "outputs": [],
   "source": [
    "client = MongoClient('mongodb://localhost:27017/')\n",
    "\n",
    "db = client['online_store']\n",
    "\n",
    "items = db['items']\n",
    "orders = db['orders']"
   ]
  },
  {
   "cell_type": "markdown",
   "source": [
    "Створіть декілька товарів з різним набором властивостей Phone/TV/Smart Watch/"
   ],
   "metadata": {
    "collapsed": false
   },
   "id": "2245c04b0f4b1d41"
  },
  {
   "cell_type": "code",
   "outputs": [
    {
     "data": {
      "text/plain": "InsertManyResult([ObjectId('66334b7bf9ec9c8290cd69c9'), ObjectId('66334b7bf9ec9c8290cd69ca'), ObjectId('66334b7bf9ec9c8290cd69cb')], acknowledged=True)"
     },
     "execution_count": 3,
     "metadata": {},
     "output_type": "execute_result"
    }
   ],
   "source": [
    "item1 = {\n",
    "    \"category\": \"Phone\",\n",
    "    \"model\": \"iPhone 12\",\n",
    "    \"producer\": \"Apple\",\n",
    "    \"price\": 900\n",
    "}\n",
    "\n",
    "item2 = {\n",
    "    \"category\": \"TV\",\n",
    "    \"model\": \"OLED65\",\n",
    "    \"producer\": \"LG\",\n",
    "    \"price\": 1200\n",
    "}\n",
    "\n",
    "item3 = {\n",
    "    \"category\": \"Smart Watch\",\n",
    "    \"model\": \"Galaxy Watch\",\n",
    "    \"producer\": \"Samsung\",\n",
    "    \"price\": 300\n",
    "}\n",
    "\n",
    "items.insert_many([item1, item2, item3])"
   ],
   "metadata": {
    "collapsed": false,
    "ExecuteTime": {
     "end_time": "2024-05-02T08:14:51.460596Z",
     "start_time": "2024-05-02T08:14:51.323097Z"
    }
   },
   "id": "c5551e3c0fbc66da",
   "execution_count": 3
  },
  {
   "cell_type": "markdown",
   "source": [
    "Напишіть запит, який виводить усі товари (відображення у JSON)"
   ],
   "metadata": {
    "collapsed": false
   },
   "id": "5e99080fc91e7040"
  },
  {
   "cell_type": "code",
   "outputs": [
    {
     "name": "stdout",
     "output_type": "stream",
     "text": [
      "Всі товари:\n",
      "{'_id': ObjectId('66334b7bf9ec9c8290cd69c9'), 'category': 'Phone', 'model': 'iPhone 12', 'producer': 'Apple', 'price': 900}\n",
      "{'_id': ObjectId('66334b7bf9ec9c8290cd69ca'), 'category': 'TV', 'model': 'OLED65', 'producer': 'LG', 'price': 1200}\n",
      "{'_id': ObjectId('66334b7bf9ec9c8290cd69cb'), 'category': 'Smart Watch', 'model': 'Galaxy Watch', 'producer': 'Samsung', 'price': 300}\n"
     ]
    }
   ],
   "source": [
    "all_items = list(items.find())\n",
    "print(\"Всі товари:\")\n",
    "for item in all_items:\n",
    "    print(item)"
   ],
   "metadata": {
    "collapsed": false,
    "ExecuteTime": {
     "end_time": "2024-05-02T08:15:02.337404Z",
     "start_time": "2024-05-02T08:15:02.330960Z"
    }
   },
   "id": "c92a4d7af60a97c2",
   "execution_count": 4
  },
  {
   "cell_type": "markdown",
   "source": [
    "Підрахуйте скільки товарів у певної категорії"
   ],
   "metadata": {
    "collapsed": false
   },
   "id": "684c8d27e6390c0c"
  },
  {
   "cell_type": "code",
   "outputs": [
    {
     "name": "stdout",
     "output_type": "stream",
     "text": [
      "Кількість товарів у категорії Phone: 1\n"
     ]
    }
   ],
   "source": [
    "category_count = items.count_documents({\"category\": \"Phone\"})\n",
    "print(f\"Кількість товарів у категорії Phone: {category_count}\")"
   ],
   "metadata": {
    "collapsed": false,
    "ExecuteTime": {
     "end_time": "2024-05-02T08:15:04.568940Z",
     "start_time": "2024-05-02T08:15:04.562034Z"
    }
   },
   "id": "1de4a2d64f1d6bbb",
   "execution_count": 5
  },
  {
   "cell_type": "markdown",
   "source": [
    "Підрахуйте скільки є різних категорій товарів\n"
   ],
   "metadata": {
    "collapsed": false
   },
   "id": "29442056dd93c2fc"
  },
  {
   "cell_type": "code",
   "outputs": [
    {
     "name": "stdout",
     "output_type": "stream",
     "text": [
      "Різні категорії товарів: ['Phone', 'Smart Watch', 'TV']\n"
     ]
    }
   ],
   "source": [
    "distinct_categories = items.distinct(\"category\")\n",
    "print(f\"Різні категорії товарів: {distinct_categories}\")"
   ],
   "metadata": {
    "collapsed": false,
    "ExecuteTime": {
     "end_time": "2024-05-02T08:15:14.656747Z",
     "start_time": "2024-05-02T08:15:14.653504Z"
    }
   },
   "id": "8af54632feb21884",
   "execution_count": 6
  },
  {
   "cell_type": "markdown",
   "source": [
    "Виведіть список всіх виробників товарів без повторів"
   ],
   "metadata": {
    "collapsed": false
   },
   "id": "881717b1e77d5d09"
  },
  {
   "cell_type": "code",
   "outputs": [
    {
     "name": "stdout",
     "output_type": "stream",
     "text": [
      "Різні виробники: ['Apple', 'LG', 'Samsung']\n"
     ]
    }
   ],
   "source": [
    "distinct_producers = items.distinct(\"producer\")\n",
    "print(f\"Різні виробники: {distinct_producers}\")"
   ],
   "metadata": {
    "collapsed": false,
    "ExecuteTime": {
     "end_time": "2024-05-02T08:16:16.937763Z",
     "start_time": "2024-05-02T08:16:16.934629Z"
    }
   },
   "id": "bccd9fa533adb26f",
   "execution_count": 7
  },
  {
   "cell_type": "markdown",
   "source": [
    "Напишіть запити, які вибирають товари за різними критеріям і їх сукупності:"
   ],
   "metadata": {
    "collapsed": false
   },
   "id": "79a2c2f5b42bc109"
  },
  {
   "cell_type": "markdown",
   "source": [
    "Категорія та ціна (в проміжку) - конструкція $and"
   ],
   "metadata": {
    "collapsed": false
   },
   "id": "b3b26f7d64fce621"
  },
  {
   "cell_type": "code",
   "outputs": [
    {
     "name": "stdout",
     "output_type": "stream",
     "text": [
      "Товари категорії 'Phone' з ціною між 500 та 1000:\n",
      "{'_id': ObjectId('66334b7bf9ec9c8290cd69c9'), 'category': 'Phone', 'model': 'iPhone 12', 'producer': 'Apple', 'price': 900}\n"
     ]
    }
   ],
   "source": [
    "filtered_items = list(items.find({\"$and\": [{\"category\": \"Phone\"}, {\"price\": {\"$gt\": 500, \"$lt\": 1000}}]}))\n",
    "print(\"Товари категорії 'Phone' з ціною між 500 та 1000:\")\n",
    "for item in filtered_items:\n",
    "    print(item)"
   ],
   "metadata": {
    "collapsed": false,
    "ExecuteTime": {
     "end_time": "2024-05-02T08:16:27.239248Z",
     "start_time": "2024-05-02T08:16:27.235571Z"
    }
   },
   "id": "ae70e59175302c4d",
   "execution_count": 8
  },
  {
   "cell_type": "markdown",
   "source": [
    "Модель чи одна чи інша ($or)"
   ],
   "metadata": {
    "collapsed": false
   },
   "id": "3c3768832f7ce1f9"
  },
  {
   "cell_type": "code",
   "outputs": [
    {
     "name": "stdout",
     "output_type": "stream",
     "text": [
      "Товари моделей 'iPhone 12' або 'OLED65':\n",
      "{'_id': ObjectId('66334b7bf9ec9c8290cd69c9'), 'category': 'Phone', 'model': 'iPhone 12', 'producer': 'Apple', 'price': 900}\n",
      "{'_id': ObjectId('66334b7bf9ec9c8290cd69ca'), 'category': 'TV', 'model': 'OLED65', 'producer': 'LG', 'price': 1200}\n"
     ]
    }
   ],
   "source": [
    "filtered_items = list(items.find({\"$or\": [{\"model\": \"iPhone 12\"}, {\"model\": \"OLED65\"}]}))\n",
    "print(\"Товари моделей 'iPhone 12' або 'OLED65':\")\n",
    "for item in filtered_items:\n",
    "    print(item)"
   ],
   "metadata": {
    "collapsed": false,
    "ExecuteTime": {
     "end_time": "2024-05-02T08:16:59.799497Z",
     "start_time": "2024-05-02T08:16:59.795737Z"
    }
   },
   "id": "ece9b702d5a41ed4",
   "execution_count": 9
  },
  {
   "cell_type": "markdown",
   "source": [
    "Виробники з переліку ($in)"
   ],
   "metadata": {
    "collapsed": false
   },
   "id": "431af06fec0895d9"
  },
  {
   "cell_type": "code",
   "outputs": [
    {
     "name": "stdout",
     "output_type": "stream",
     "text": [
      "Товари виробників 'Apple' або 'Samsung':\n",
      "{'_id': ObjectId('66334b7bf9ec9c8290cd69c9'), 'category': 'Phone', 'model': 'iPhone 12', 'producer': 'Apple', 'price': 900}\n",
      "{'_id': ObjectId('66334b7bf9ec9c8290cd69cb'), 'category': 'Smart Watch', 'model': 'Galaxy Watch', 'producer': 'Samsung', 'price': 300}\n"
     ]
    }
   ],
   "source": [
    "filtered_items = list(items.find({\"producer\": {\"$in\": [\"Apple\", \"Samsung\"]}}))\n",
    "print(\"Товари виробників 'Apple' або 'Samsung':\")\n",
    "for item in filtered_items:\n",
    "    print(item)"
   ],
   "metadata": {
    "collapsed": false,
    "ExecuteTime": {
     "end_time": "2024-05-02T08:17:04.063228Z",
     "start_time": "2024-05-02T08:17:04.059466Z"
    }
   },
   "id": "5605034aa613fe7b",
   "execution_count": 10
  },
  {
   "cell_type": "markdown",
   "source": [
    "Оновіть певні товари, змінивши існуючі значення і додайте нові властивості (характеристики) усім товарам за певним критерієм"
   ],
   "metadata": {
    "collapsed": false
   },
   "id": "dcc358baaad6f385"
  },
  {
   "cell_type": "code",
   "outputs": [
    {
     "name": "stdout",
     "output_type": "stream",
     "text": [
      "Кількість оновлених документів: 1\n"
     ]
    }
   ],
   "source": [
    "# Наприклад, додати нові властивості та збільшити вартість\n",
    "result = items.update_many(\n",
    "    {\"category\": \"Phone\"},\n",
    "    {\"$set\": {\"warranty\": \"2 years\"}, \"$inc\": {\"price\": 50}}\n",
    ")\n",
    "\n",
    "print(f\"Кількість оновлених документів: {result.modified_count}\")\n"
   ],
   "metadata": {
    "collapsed": false,
    "ExecuteTime": {
     "end_time": "2024-05-02T08:18:48.468861Z",
     "start_time": "2024-05-02T08:18:48.464447Z"
    }
   },
   "id": "c75f956091072997",
   "execution_count": 11
  },
  {
   "cell_type": "markdown",
   "source": [
    "Знайдіть товари у яких є (присутнє поле) певні властивості"
   ],
   "metadata": {
    "collapsed": false
   },
   "id": "b964a586f1b9a34a"
  },
  {
   "cell_type": "code",
   "outputs": [
    {
     "name": "stdout",
     "output_type": "stream",
     "text": [
      "Товари, які містять поле 'warranty':\n",
      "{'_id': ObjectId('66334b7bf9ec9c8290cd69c9'), 'category': 'Phone', 'model': 'iPhone 12', 'producer': 'Apple', 'price': 950, 'warranty': '2 years'}\n"
     ]
    }
   ],
   "source": [
    "# Припустимо, що ми хочемо знайти товари, які містять поле \"warranty\".\n",
    "field_name = \"warranty\"\n",
    "\n",
    "# Виконання запиту до колекції items, щоб знайти товари, у яких є поле \"warranty\"\n",
    "items_with_field = list(items.find({field_name: {\"$exists\": True}}))\n",
    "\n",
    "# Вивести товари, які містять поле \"warranty\"\n",
    "print(f\"Товари, які містять поле '{field_name}':\")\n",
    "for item in items_with_field:\n",
    "    print(item)\n"
   ],
   "metadata": {
    "collapsed": false,
    "ExecuteTime": {
     "end_time": "2024-05-02T08:19:01.763568Z",
     "start_time": "2024-05-02T08:19:01.759843Z"
    }
   },
   "id": "beeb6f3179b3c021",
   "execution_count": 12
  },
  {
   "cell_type": "markdown",
   "source": [
    "Для знайдених товарів збільшіть їх вартість на певну суму"
   ],
   "metadata": {
    "collapsed": false
   },
   "id": "6c6f0a745aaa7ef6"
  },
  {
   "cell_type": "code",
   "outputs": [
    {
     "name": "stdout",
     "output_type": "stream",
     "text": [
      "Кількість оновлених товарів: 1\n"
     ]
    }
   ],
   "source": [
    "# Сума, на яку потрібно збільшити вартість\n",
    "increase_amount = 50  # Збільшення на 50 одиниць\n",
    "\n",
    "# Виконання запиту до колекції items для збільшення вартості на певну суму\n",
    "result = items.update_many(\n",
    "    {field_name: {\"$exists\": True}},  # Фільтр: товари з певним полем\n",
    "    {\"$inc\": {\"price\": increase_amount}}  # Операція збільшення вартості\n",
    ")\n",
    "\n",
    "# Виведення кількості оновлених документів\n",
    "print(f\"Кількість оновлених товарів: {result.modified_count}\")"
   ],
   "metadata": {
    "collapsed": false,
    "ExecuteTime": {
     "end_time": "2024-05-02T08:19:08.738870Z",
     "start_time": "2024-05-02T08:19:08.734057Z"
    }
   },
   "id": "23b000a8cd08a096",
   "execution_count": 13
  },
  {
   "cell_type": "markdown",
   "source": [
    "Створіть кілька замовлень з різними наборами товарів, але так щоб один з товарів був у декількох замовленнях"
   ],
   "metadata": {
    "collapsed": false
   },
   "id": "92fb96b498ad79bb"
  },
  {
   "cell_type": "code",
   "outputs": [
    {
     "data": {
      "text/plain": "InsertManyResult([ObjectId('66335b0cf9ec9c8290cd69d6'), ObjectId('66335b0cf9ec9c8290cd69d7')], acknowledged=True)"
     },
     "execution_count": 59,
     "metadata": {},
     "output_type": "execute_result"
    }
   ],
   "source": [
    "# Додавання замовлень з товарами у вигляді references\n",
    "order1 = {\n",
    "    \"order_number\": 1001,\n",
    "    \"date\": \"2024-04-25\",\n",
    "    \"total_sum\": item1[\"price\"] + item2[\"price\"],\n",
    "    \"customer\": {\n",
    "        \"name\": \"Andrii\",\n",
    "        \"surname\": \"Rodinov\",\n",
    "        \"phones\": [9876543, 1234567],\n",
    "        \"address\": \"PTI, Peremohy 37, Kyiv, UA\"\n",
    "    },\n",
    "    \"payment\": {\n",
    "        \"card_owner\": \"Andrii Rodionov\",\n",
    "        \"card_id\": 12345678\n",
    "    },\n",
    "    \"items_id\": [item1[\"_id\"], item2[\"_id\"]]\n",
    "}\n",
    "\n",
    "order2 = {\n",
    "    \"order_number\": 1002,\n",
    "    \"date\": \"2023-04-25\",\n",
    "    \"total_sum\": item1[\"price\"] + item3[\"price\"],\n",
    "    \"customer\": {\n",
    "        \"name\": \"Ivan\",\n",
    "        \"surname\": \"Shevchenko\",\n",
    "        \"phones\": [2345678],\n",
    "        \"address\": \"PTI, Peremohy 37, Kyiv, UA\"\n",
    "    },\n",
    "    \"payment\": {\n",
    "        \"card_owner\": \"Ivan Shevchenko\",\n",
    "        \"card_id\": 87654321\n",
    "    },\n",
    "    \"items_id\": [item1[\"_id\"], item3[\"_id\"]]\n",
    "}\n",
    "\n",
    "# Додавання замовлень до колекції orders\n",
    "orders.insert_many([order1, order2])"
   ],
   "metadata": {
    "collapsed": false,
    "ExecuteTime": {
     "end_time": "2024-05-02T09:21:16.738519Z",
     "start_time": "2024-05-02T09:21:16.713995Z"
    }
   },
   "id": "c2000516c1cc802b",
   "execution_count": 59
  },
  {
   "cell_type": "markdown",
   "source": [
    "Виведіть всі замовлення"
   ],
   "metadata": {
    "collapsed": false
   },
   "id": "470c179426e4383d"
  },
  {
   "cell_type": "code",
   "outputs": [
    {
     "name": "stdout",
     "output_type": "stream",
     "text": [
      "Всі замовлення:\n",
      "{'_id': ObjectId('66335b0cf9ec9c8290cd69d6'), 'order_number': 1001, 'date': '2024-04-25', 'total_sum': 2100, 'customer': {'name': 'Andrii', 'surname': 'Rodinov', 'phones': [9876543, 1234567], 'address': 'PTI, Peremohy 37, Kyiv, UA'}, 'payment': {'card_owner': 'Andrii Rodionov', 'card_id': 12345678}, 'items_id': [ObjectId('66334b7bf9ec9c8290cd69c9'), ObjectId('66334b7bf9ec9c8290cd69ca')]}\n",
      "{'_id': ObjectId('66335b0cf9ec9c8290cd69d7'), 'order_number': 1002, 'date': '2023-04-25', 'total_sum': 1200, 'customer': {'name': 'Ivan', 'surname': 'Shevchenko', 'phones': [2345678], 'address': 'PTI, Peremohy 37, Kyiv, UA'}, 'payment': {'card_owner': 'Ivan Shevchenko', 'card_id': 87654321}, 'items_id': [ObjectId('66334b7bf9ec9c8290cd69c9'), ObjectId('66334b7bf9ec9c8290cd69cb')]}\n"
     ]
    }
   ],
   "source": [
    "# Вивести всі замовлення\n",
    "all_orders = list(orders.find())\n",
    "print(\"Всі замовлення:\")\n",
    "for order in all_orders:\n",
    "    print(order)"
   ],
   "metadata": {
    "collapsed": false,
    "ExecuteTime": {
     "end_time": "2024-05-02T09:21:18.679483Z",
     "start_time": "2024-05-02T09:21:18.675191Z"
    }
   },
   "id": "1a667ee29a868a25",
   "execution_count": 60
  },
  {
   "cell_type": "markdown",
   "source": [
    "Виведіть замовлення з вартістю більше певного значення"
   ],
   "metadata": {
    "collapsed": false
   },
   "id": "b75b77c1267629ea"
  },
  {
   "cell_type": "code",
   "outputs": [
    {
     "name": "stdout",
     "output_type": "stream",
     "text": [
      "Замовлення з вартістю більше 1000:\n",
      "{'_id': ObjectId('66334ca0f9ec9c8290cd69cc'), 'order_number': 1001, 'date': '2024-04-25', 'total_sum': 2400, 'customer': {'name': 'Andrii', 'surname': 'Rodinov', 'phones': [9876543, 1234567], 'address': 'PTI, Peremohy 37, Kyiv, UA'}, 'payment': {'card_owner': 'Andrii Rodionov', 'card_id': 12345678}, 'items_id': [ObjectId('66334b7bf9ec9c8290cd69c9'), ObjectId('66334b7bf9ec9c8290cd69ca'), ObjectId('66334ff8f9ec9c8290cd69ce')]}\n",
      "{'_id': ObjectId('66334ca0f9ec9c8290cd69cd'), 'order_number': 1002, 'date': '2024-04-25', 'total_sum': 1500, 'customer': {'name': 'Ivan', 'surname': 'Shevchenko', 'phones': [2345678], 'address': 'PTI, Peremohy 37, Kyiv, UA'}, 'payment': {'card_owner': 'Ivan Shevchenko', 'card_id': 87654321}, 'items_id': [ObjectId('66334b7bf9ec9c8290cd69c9'), ObjectId('66334b7bf9ec9c8290cd69cb'), ObjectId('66334ff8f9ec9c8290cd69ce')]}\n"
     ]
    }
   ],
   "source": [
    "high_value_orders = list(orders.find({\"total_sum\": {\"$gt\": 1000}}))\n",
    "print(\"Замовлення з вартістю більше 1000:\")\n",
    "for order in high_value_orders:\n",
    "    print(order)"
   ],
   "metadata": {
    "collapsed": false,
    "ExecuteTime": {
     "end_time": "2024-05-02T08:48:39.692201Z",
     "start_time": "2024-05-02T08:48:39.688807Z"
    }
   },
   "id": "9f63c70b9589de7e",
   "execution_count": 36
  },
  {
   "cell_type": "markdown",
   "source": [
    "Знайдіть замовлення зроблені одним замовником"
   ],
   "metadata": {
    "collapsed": false
   },
   "id": "1914de774e32e880"
  },
  {
   "cell_type": "code",
   "outputs": [
    {
     "name": "stdout",
     "output_type": "stream",
     "text": [
      "Замовлення, зроблені замовником Andrii Rodinov:\n",
      "{'_id': ObjectId('66334ca0f9ec9c8290cd69cc'), 'order_number': 1001, 'date': '2024-04-25', 'total_sum': 1200, 'customer': {'name': 'Andrii', 'surname': 'Rodinov', 'phones': [9876543, 1234567], 'address': 'PTI, Peremohy 37, Kyiv, UA'}, 'payment': {'card_owner': 'Andrii Rodionov', 'card_id': 12345678}, 'items_id': [ObjectId('66334b7bf9ec9c8290cd69c9'), ObjectId('66334b7bf9ec9c8290cd69ca')]}\n"
     ]
    }
   ],
   "source": [
    "# Ідентифікаційні дані замовника (наприклад, ім'я та прізвище)\n",
    "customer_name = \"Andrii\"\n",
    "customer_surname = \"Rodinov\"\n",
    "\n",
    "# Запит для знаходження всіх замовлень, зроблених одним замовником\n",
    "customer_orders = list(orders.find({\n",
    "    \"customer.name\": customer_name,\n",
    "    \"customer.surname\": customer_surname\n",
    "}))\n",
    "\n",
    "# Вивід результатів\n",
    "print(f\"Замовлення, зроблені замовником {customer_name} {customer_surname}:\")\n",
    "for order in customer_orders:\n",
    "    print(order)"
   ],
   "metadata": {
    "collapsed": false,
    "ExecuteTime": {
     "end_time": "2024-05-02T08:19:59.200384Z",
     "start_time": "2024-05-02T08:19:59.196007Z"
    }
   },
   "id": "88b7833016a995a8",
   "execution_count": 17
  },
  {
   "cell_type": "markdown",
   "source": [
    "Знайдіть всі замовлення з певним товаром (товарами) (шукати можна по ObjectId)"
   ],
   "metadata": {
    "collapsed": false
   },
   "id": "d0216dc3000a7245"
  },
  {
   "cell_type": "code",
   "outputs": [
    {
     "name": "stdout",
     "output_type": "stream",
     "text": [
      "Замовлення, які містять товари з ObjectId [ObjectId('66334b7bf9ec9c8290cd69c9'), ObjectId('66334b7bf9ec9c8290cd69ca')]:\n",
      "{'_id': ObjectId('66334ca0f9ec9c8290cd69cc'), 'order_number': 1001, 'date': '2024-04-25', 'total_sum': 1200, 'customer': {'name': 'Andrii', 'surname': 'Rodinov', 'phones': [9876543, 1234567], 'address': 'PTI, Peremohy 37, Kyiv, UA'}, 'payment': {'card_owner': 'Andrii Rodionov', 'card_id': 12345678}, 'items_id': [ObjectId('66334b7bf9ec9c8290cd69c9'), ObjectId('66334b7bf9ec9c8290cd69ca')]}\n",
      "{'_id': ObjectId('66334ca0f9ec9c8290cd69cd'), 'order_number': 1002, 'date': '2024-04-25', 'total_sum': 300, 'customer': {'name': 'Ivan', 'surname': 'Shevchenko', 'phones': [2345678], 'address': 'PTI, Peremohy 37, Kyiv, UA'}, 'payment': {'card_owner': 'Ivan Shevchenko', 'card_id': 87654321}, 'items_id': [ObjectId('66334b7bf9ec9c8290cd69c9'), ObjectId('66334b7bf9ec9c8290cd69cb')]}\n"
     ]
    }
   ],
   "source": [
    "# Вказаний ObjectId товару або товарів, які потрібно знайти у замовленнях\n",
    "item_ids_to_find = [item1[\"_id\"], item2[\"_id\"]]\n",
    "\n",
    "# Запит для знаходження всіх замовлень, які містять певний товар (товари)\n",
    "orders_with_items = list(orders.find({\"items_id\": {\"$in\": item_ids_to_find}}))\n",
    "\n",
    "# Вивід результатів\n",
    "print(f\"Замовлення, які містять товари з ObjectId {item_ids_to_find}:\")\n",
    "for order in orders_with_items:\n",
    "    print(order)"
   ],
   "metadata": {
    "collapsed": false,
    "ExecuteTime": {
     "end_time": "2024-05-02T08:22:13.916776Z",
     "start_time": "2024-05-02T08:22:13.912566Z"
    }
   },
   "id": "e06a3d19462e898a",
   "execution_count": 18
  },
  {
   "cell_type": "markdown",
   "source": [
    "Додайте в усі замовлення з певним товаром ще один товар і збільште існуючу вартість замовлення на деяке значення Х"
   ],
   "metadata": {
    "collapsed": false
   },
   "id": "7925770ad7490a4e"
  },
  {
   "cell_type": "code",
   "outputs": [
    {
     "data": {
      "text/plain": "InsertManyResult([ObjectId('66334ff8f9ec9c8290cd69ce')], acknowledged=True)"
     },
     "execution_count": 19,
     "metadata": {},
     "output_type": "execute_result"
    }
   ],
   "source": [
    "item4 = {\n",
    "    \"category\": \"TV\",\n",
    "    \"model\": \"Sony Bravia\",\n",
    "    \"producer\": \"Sony\",\n",
    "    \"price\": 1200\n",
    "}\n",
    "\n",
    "items.insert_many([item4])"
   ],
   "metadata": {
    "collapsed": false,
    "ExecuteTime": {
     "end_time": "2024-05-02T08:34:00.841893Z",
     "start_time": "2024-05-02T08:34:00.836929Z"
    }
   },
   "id": "addfe6bcff2af761",
   "execution_count": 19
  },
  {
   "cell_type": "code",
   "outputs": [
    {
     "name": "stdout",
     "output_type": "stream",
     "text": [
      "Замовлення з id 66334ca0f9ec9c8290cd69cc оновлене: 1\n",
      "Замовлення з id 66334ca0f9ec9c8290cd69cd оновлене: 1\n",
      "Усі замовлення з певним товаром оновлені.\n"
     ]
    }
   ],
   "source": [
    "target_item_id = item1[\"_id\"]\n",
    "\n",
    "# ObjectId товару, який потрібно додати до замовлень\n",
    "new_item_id = item4[\"_id\"]\n",
    "\n",
    "# Сума, на яку потрібно збільшити існуючу вартість замовлення\n",
    "increase_amount = item4[\"price\"] # Збільшення на 100 одиниць\n",
    "\n",
    "# Знайти всі замовлення, які містять певний товар\n",
    "orders_with_target_item = orders.find({\"items_id\": target_item_id})\n",
    "\n",
    "# Оновлення кожного знайденого замовлення\n",
    "for order in orders_with_target_item:\n",
    "    # Оновлення списку товарів та загальної суми замовлення\n",
    "    result = orders.update_one(\n",
    "        {\"_id\": order[\"_id\"]},\n",
    "        {\n",
    "            # Додати новий товар до списку товарів\n",
    "            \"$addToSet\": {\"items_id\": new_item_id},\n",
    "            # Збільшити існуючу вартість замовлення\n",
    "            \"$inc\": {\"total_sum\": increase_amount}\n",
    "        }\n",
    "    )\n",
    "    print(f\"Замовлення з id {order['_id']} оновлене: {result.modified_count}\")\n",
    "\n",
    "print(\"Усі замовлення з певним товаром оновлені.\")"
   ],
   "metadata": {
    "collapsed": false,
    "ExecuteTime": {
     "end_time": "2024-05-02T08:35:36.818072Z",
     "start_time": "2024-05-02T08:35:36.812509Z"
    }
   },
   "id": "d6039f13584af568",
   "execution_count": 20
  },
  {
   "cell_type": "markdown",
   "source": [
    "Виведіть кількість товарів в певному замовленні"
   ],
   "metadata": {
    "collapsed": false
   },
   "id": "6c001690e9296a8a"
  },
  {
   "cell_type": "code",
   "outputs": [
    {
     "name": "stdout",
     "output_type": "stream",
     "text": [
      "Кількість товарів у замовленні з id 66334ca0f9ec9c8290cd69cc: 3\n"
     ]
    }
   ],
   "source": [
    "# Унікальний ідентифікатор замовлення (ObjectId)\n",
    "order_id = order1[\"_id\"]\n",
    "\n",
    "# Знаходимо замовлення за його ObjectId\n",
    "order = orders.find_one({\"_id\": order_id})\n",
    "\n",
    "# Перевірка, чи замовлення знайдено\n",
    "if order:\n",
    "    # Підрахунок кількості товарів у замовленні (довжина списку items_id)\n",
    "    num_items = len(order.get(\"items_id\", []))\n",
    "    print(f\"Кількість товарів у замовленні з id {order_id}: {num_items}\")\n",
    "else:\n",
    "    print(f\"Замовлення з id {order_id} не знайдено.\")"
   ],
   "metadata": {
    "collapsed": false,
    "ExecuteTime": {
     "end_time": "2024-05-02T08:37:31.705861Z",
     "start_time": "2024-05-02T08:37:31.701818Z"
    }
   },
   "id": "9c001463c0747b5b",
   "execution_count": 22
  },
  {
   "cell_type": "markdown",
   "source": [
    "Виведіть тільки інформацію про кастомера і номери кредитної карт, для замовлень вартість яких перевищує певну суму"
   ],
   "metadata": {
    "collapsed": false
   },
   "id": "c7d571231b6bee28"
  },
  {
   "cell_type": "code",
   "outputs": [
    {
     "name": "stdout",
     "output_type": "stream",
     "text": [
      "Замовлення, вартість яких перевищує 1500 одиниць:\n",
      "Замовник: {'name': 'Andrii', 'surname': 'Rodinov', 'phones': [9876543, 1234567], 'address': 'PTI, Peremohy 37, Kyiv, UA'}, \n",
      "Номер кредитної картки: 12345678\n"
     ]
    }
   ],
   "source": [
    "# Визначення порогової суми\n",
    "threshold_sum = 1500 # Наприклад, 1000 одиниць\n",
    "\n",
    "# Виконання запиту до колекції orders з фільтром та проекцією\n",
    "# Фільтр: замовлення, вартість яких перевищує threshold_sum\n",
    "# Проекція: включаємо поля \"customer\" та \"payment.cardId\"\n",
    "result = orders.find(\n",
    "    {\"total_sum\": {\"$gt\": threshold_sum}},  # Фільтр за вартістю замовлення\n",
    "    {\n",
    "        \"customer\": 1,  # Включаємо інформацію про замовника\n",
    "        \"payment\": 1  # Включаємо номер кредитної карти\n",
    "    }\n",
    ")\n",
    "\n",
    "# Вивід результатів\n",
    "print(f\"Замовлення, вартість яких перевищує {threshold_sum} одиниць:\")\n",
    "for order in result:\n",
    "    # Виводимо інформацію про замовника та номер кредитної картки, якщо він є\n",
    "    customer_info = order.get(\"customer\", {})\n",
    "    card_id = order.get(\"payment\", {}).get(\"card_id\")\n",
    "\n",
    "    print(f\"Замовник: {customer_info}, \\nНомер кредитної картки: {card_id}\")"
   ],
   "metadata": {
    "collapsed": false,
    "ExecuteTime": {
     "end_time": "2024-05-02T08:42:03.449727Z",
     "start_time": "2024-05-02T08:42:03.445273Z"
    }
   },
   "id": "322ed78123efa8ac",
   "execution_count": 28
  },
  {
   "cell_type": "markdown",
   "source": [],
   "metadata": {
    "collapsed": false
   },
   "id": "2f4efccc26cd44bd"
  },
  {
   "cell_type": "code",
   "outputs": [
    {
     "name": "stdout",
     "output_type": "stream",
     "text": [
      "Кількість замовлень, з яких видалено товар: 2\n"
     ]
    }
   ],
   "source": [
    "# Вкажіть період дат\n",
    "start_date = '2024-04-25'  # Початок періоду (рік, місяць, день)\n",
    "end_date = '2024-05-25'    # Кінець періоду (рік, місяць, день)\n",
    "# Вкажіть ObjectId товару, який потрібно видалити з замовлень\n",
    "item_id_to_remove = item1[\"_id\"]\n",
    "query_filter = {\n",
    "    \"date\": {\"$gte\": start_date, \"$lte\": end_date}\n",
    "}\n",
    "\n",
    "# Пошук замовлень, зроблених за цей період\n",
    "found_orders = orders.find({\"date\": {\"$gte\": start_date, \"$lte\": end_date}})\n",
    "\n",
    "# Виведення результатів\n",
    "\n",
    "# Виконання запиту для видалення товару з замовлень\n",
    "result = orders.update_many(\n",
    "    query_filter,\n",
    "    {\"$pull\": {\"items_id\": item_id_to_remove}}\n",
    ")\n",
    "\n",
    "# Вивід результатів\n",
    "print(f\"Кількість замовлень, з яких видалено товар: {result.modified_count}\")"
   ],
   "metadata": {
    "collapsed": false,
    "ExecuteTime": {
     "end_time": "2024-05-02T08:59:08.578171Z",
     "start_time": "2024-05-02T08:59:08.573965Z"
    }
   },
   "id": "9415281e0eeddbc6",
   "execution_count": 52
  },
  {
   "cell_type": "markdown",
   "source": [
    "Перейменуйте у всіх замовлення ім'я (прізвище) замовника"
   ],
   "metadata": {
    "collapsed": false
   },
   "id": "870107ef46f3d861"
  },
  {
   "cell_type": "code",
   "outputs": [
    {
     "name": "stdout",
     "output_type": "stream",
     "text": [
      "Кількість замовлень, у яких оновлено ім'я або прізвище: 2\n"
     ]
    }
   ],
   "source": [
    "# Нова назва для замовника (наприклад, нове ім'я або прізвище)\n",
    "new_name = \"Andriy\"  # Змінюйте на потрібне ім'я\n",
    "new_surname = \"Volovyk\"  # Змінюйте на потрібне прізвище\n",
    "\n",
    "# Виконання запиту для оновлення імені та/або прізвища у всіх замовленнях\n",
    "result = orders.update_many(\n",
    "    {},  # Порожній фільтр, який означає, що зміна стосуватиметься всіх замовлень\n",
    "    {\n",
    "        # Оновлення імені та прізвища замовника\n",
    "        \"$set\": {\n",
    "            \"customer.name\": new_name,  # Заміна імені на нове значення\n",
    "            \"customer.surname\": new_surname  # Заміна прізвища на нове значення\n",
    "        }\n",
    "    }\n",
    ")\n",
    "\n",
    "# Вивід результатів\n",
    "print(f\"Кількість замовлень, у яких оновлено ім'я або прізвище: {result.modified_count}\")"
   ],
   "metadata": {
    "collapsed": false,
    "ExecuteTime": {
     "end_time": "2024-05-02T09:01:44.654613Z",
     "start_time": "2024-05-02T09:01:44.648817Z"
    }
   },
   "id": "d6681a2cb53035b2",
   "execution_count": 53
  },
  {
   "cell_type": "markdown",
   "source": [
    "Знайдіть замовлення зроблені одним замовником, і виведіть тільки інформацію про кастомера та товари у замовлені підставивши замість ObjectId(\"***\") назви товарів та їх вартість (аналог join-а між таблицями orders та items)."
   ],
   "metadata": {
    "collapsed": false
   },
   "id": "10bba53a4c588a2e"
  },
  {
   "cell_type": "code",
   "outputs": [
    {
     "name": "stdout",
     "output_type": "stream",
     "text": [
      "Замовлення зроблені замовником Andriy:\n",
      "Кастомер: {'name': 'Andriy', 'surname': 'Volovyk', 'phones': [9876543, 1234567], 'address': 'PTI, Peremohy 37, Kyiv, UA'}\n",
      "Товари у замовленні:\n",
      "- Назва: Sony Bravia, Ціна: 1200\n",
      "- Назва: OLED65, Ціна: 1200\n",
      "------------------------------\n",
      "Кастомер: {'name': 'Andriy', 'surname': 'Volovyk', 'phones': [2345678], 'address': 'PTI, Peremohy 37, Kyiv, UA'}\n",
      "Товари у замовленні:\n",
      "- Назва: Sony Bravia, Ціна: 1200\n",
      "- Назва: Galaxy Watch, Ціна: 300\n",
      "------------------------------\n"
     ]
    }
   ],
   "source": [
    "# Вкажіть ім'я замовника, для якого хочете знайти замовлення\n",
    "customer_name = \"Andriy\"\n",
    "\n",
    "# Виконання операції агрегування\n",
    "pipeline = [\n",
    "    {\n",
    "        # Фільтрація замовлень за ім'ям замовника\n",
    "        \"$match\": {\n",
    "            \"customer.name\": customer_name\n",
    "        }\n",
    "    },\n",
    "    {\n",
    "        # З'єднання з колекцією items за items_id\n",
    "        \"$lookup\": {\n",
    "            \"from\": \"items\",  # З якої колекції здійснюється з'єднання\n",
    "            \"localField\": \"items_id\",  # Поле з ключами у замовленнях\n",
    "            \"foreignField\": \"_id\",  # Поле з ключами у колекції items\n",
    "            \"as\": \"items_info\"  # Як називати поле зі з'єднаними даними\n",
    "        }\n",
    "    },\n",
    "    {\n",
    "        # Вибірка тільки інформації про кастомера та товарів у замовленні\n",
    "        \"$project\": {\n",
    "            \"customer\": 1,  # Включаємо інформацію про кастомера\n",
    "            \"items_info.model\": 1,  # Включаємо назви товарів\n",
    "            \"items_info.price\": 1  # Включаємо ціни товарів\n",
    "        }\n",
    "    }\n",
    "]\n",
    "\n",
    "# Виконання операції агрегування та вивід результатів\n",
    "result = orders.aggregate(pipeline)\n",
    "print(f\"Замовлення зроблені замовником {customer_name}:\")\n",
    "for order in result:\n",
    "    customer_info = order.get(\"customer\")\n",
    "    items_info = order.get(\"items_info\")\n",
    "\n",
    "    print(f\"Кастомер: {customer_info}\")\n",
    "    print(\"Товари у замовленні:\")\n",
    "    for item in items_info:\n",
    "        name = item.get(\"model\")\n",
    "        price = item.get(\"price\")\n",
    "        print(f\"- Назва: {name}, Ціна: {price}\")\n",
    "    print(\"-\" * 30)"
   ],
   "metadata": {
    "collapsed": false,
    "ExecuteTime": {
     "end_time": "2024-05-02T09:06:54.954095Z",
     "start_time": "2024-05-02T09:06:54.948775Z"
    }
   },
   "id": "2ee7309ca463437c",
   "execution_count": 57
  },
  {
   "cell_type": "code",
   "outputs": [
    {
     "name": "stdout",
     "output_type": "stream",
     "text": [
      "Inserted review 1\n",
      "Inserted review 2\n",
      "Inserted review 3\n",
      "Inserted review 4\n",
      "Inserted review 5\n",
      "Inserted review 6\n",
      "Inserted review 7\n",
      "\n",
      "Reviews in the collection:\n",
      "{'_id': ObjectId('663357f3f9ec9c8290cd69d1'), 'reviewer': 'Customer 3', 'rating': 3, 'comment': 'Review comment 3'}\n",
      "{'_id': ObjectId('663357f3f9ec9c8290cd69d2'), 'reviewer': 'Customer 4', 'rating': 4, 'comment': 'Review comment 4'}\n",
      "{'_id': ObjectId('663357f3f9ec9c8290cd69d3'), 'reviewer': 'Customer 5', 'rating': 5, 'comment': 'Review comment 5'}\n",
      "{'_id': ObjectId('663357f3f9ec9c8290cd69d4'), 'reviewer': 'Customer 6', 'rating': 1, 'comment': 'Review comment 6'}\n",
      "{'_id': ObjectId('663357f3f9ec9c8290cd69d5'), 'reviewer': 'Customer 7', 'rating': 2, 'comment': 'Review comment 7'}\n"
     ]
    }
   ],
   "source": [
    "collection_name = 'reviews'\n",
    "if collection_name in db.list_collection_names():\n",
    "    db.drop_collection(collection_name)\n",
    "\n",
    "# Виберіть розмір та максимальну кількість документів для колекції\n",
    "# Розмір визначає максимальний об'єм у байтах, що може займати колекція\n",
    "# max визначає максимальну кількість документів у колекції\n",
    "db.create_collection(\n",
    "    collection_name,\n",
    "    capped=True,\n",
    "    size=1024 * 10,  # Приклад: 10 кілобайт\n",
    "    max=5  # Максимум 5 документів\n",
    ")\n",
    "\n",
    "# Отримання доступу до колекції\n",
    "reviews = db[collection_name]\n",
    "\n",
    "# Додавання кількох відгуків\n",
    "for i in range(7):\n",
    "    review = {\n",
    "        \"reviewer\": f\"Customer {i+1}\",\n",
    "        \"rating\": i % 5 + 1,\n",
    "        \"comment\": f\"Review comment {i+1}\"\n",
    "    }\n",
    "    reviews.insert_one(review)\n",
    "    print(f\"Inserted review {i+1}\")\n",
    "\n",
    "# Перевірка вмісту колекції після додавання відгуків\n",
    "print(\"\\nReviews in the collection:\")\n",
    "for review in reviews.find():\n",
    "    print(review)"
   ],
   "metadata": {
    "collapsed": false,
    "ExecuteTime": {
     "end_time": "2024-05-02T09:08:03.236930Z",
     "start_time": "2024-05-02T09:08:03.210767Z"
    }
   },
   "id": "20bad4ddb7f511d",
   "execution_count": 58
  }
 ],
 "metadata": {
  "kernelspec": {
   "display_name": "Python 3",
   "language": "python",
   "name": "python3"
  },
  "language_info": {
   "codemirror_mode": {
    "name": "ipython",
    "version": 2
   },
   "file_extension": ".py",
   "mimetype": "text/x-python",
   "name": "python",
   "nbconvert_exporter": "python",
   "pygments_lexer": "ipython2",
   "version": "2.7.6"
  }
 },
 "nbformat": 4,
 "nbformat_minor": 5
}
